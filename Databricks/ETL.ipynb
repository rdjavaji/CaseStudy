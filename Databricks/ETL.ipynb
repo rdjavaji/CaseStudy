{
 "cells": [
  {
   "cell_type": "code",
   "execution_count": 0,
   "metadata": {
    "application/vnd.databricks.v1+cell": {
     "cellMetadata": {
      "byteLimit": 2048000,
      "rowLimit": 10000
     },
     "inputWidgets": {},
     "nuid": "3407ea7b-f585-42c5-b8a2-c2c56ede56e8",
     "showTitle": false,
     "tableResultSettingsMap": {},
     "title": ""
    }
   },
   "outputs": [],
   "source": [
    "spark.conf.set(\n",
    "\"fs.azure.account.key.mystoragecd.dfs.core.windows.net\",\n",
    "\"cohyF/qhtXtSyWejUVgk0==========================\")"
   ]
  },
  {
   "cell_type": "code",
   "execution_count": 0,
   "metadata": {
    "application/vnd.databricks.v1+cell": {
     "cellMetadata": {
      "byteLimit": 2048000,
      "rowLimit": 10000
     },
     "inputWidgets": {},
     "nuid": "ef1626d7-22b1-4d82-bb45-de4ef3d8a69d",
     "showTitle": false,
     "tableResultSettingsMap": {},
     "title": ""
    }
   },
   "outputs": [],
   "source": [
    "# Read Data from Silver Container:\n",
    "customers_df =spark.read.format(\"delta\").load(\"abfss://silver@mystoragecd.dfs.core.windows.net/delta/customers_delta\")"
   ]
  },
  {
   "cell_type": "code",
   "execution_count": 0,
   "metadata": {
    "application/vnd.databricks.v1+cell": {
     "cellMetadata": {
      "byteLimit": 2048000,
      "rowLimit": 10000
     },
     "inputWidgets": {},
     "nuid": "bfa61a45-c383-4d70-b8cc-2a998fcc8f34",
     "showTitle": false,
     "tableResultSettingsMap": {},
     "title": ""
    }
   },
   "outputs": [],
   "source": [
    "#defining the schema\n",
    "columns = [\"customer_id\", \"first_name\", \"last_name\", \"address\", \"city\", \"state\", \"zip\"]"
   ]
  },
  {
   "cell_type": "code",
   "execution_count": 0,
   "metadata": {
    "application/vnd.databricks.v1+cell": {
     "cellMetadata": {
      "byteLimit": 2048000,
      "rowLimit": 10000
     },
     "inputWidgets": {},
     "nuid": "068c87a8-6389-45c7-99a3-45a9cf515bce",
     "showTitle": false,
     "tableResultSettingsMap": {},
     "title": ""
    }
   },
   "outputs": [
    {
     "output_type": "display_data",
     "data": {
      "text/html": [
       "<style scoped>\n",
       "  .table-result-container {\n",
       "    max-height: 300px;\n",
       "    overflow: auto;\n",
       "  }\n",
       "  table, th, td {\n",
       "    border: 1px solid black;\n",
       "    border-collapse: collapse;\n",
       "  }\n",
       "  th, td {\n",
       "    padding: 5px;\n",
       "  }\n",
       "  th {\n",
       "    text-align: left;\n",
       "  }\n",
       "</style><div class='table-result-container'><table class='table-result'><thead style='background-color: white'><tr><th>customer_id</th><th>first_name</th><th>last_name</th><th>address</th><th>city</th><th>state</th><th>zip</th></tr></thead><tbody><tr><td>1</td><td>John</td><td>Doe</td><td>123 Elm St</td><td>Springfield</td><td>IL</td><td>62701</td></tr><tr><td>2</td><td>Jane</td><td>Smith</td><td>456 Oak St</td><td>Chicago</td><td>IL</td><td>60614</td></tr><tr><td>3</td><td>Emily</td><td>Johnson</td><td>789 Pine St</td><td>Dallas</td><td>TX</td><td>75201</td></tr><tr><td>4</td><td>Michael</td><td>Williams</td><td>101 Maple St</td><td>Seattle</td><td>WA</td><td>98101</td></tr><tr><td>5</td><td>Sarah</td><td>Brown</td><td>202 Birch St</td><td>New York</td><td>NY</td><td>10001</td></tr><tr><td>6</td><td>David</td><td>Jones</td><td>303 Cedar St</td><td>Los Angeles</td><td>CA</td><td>90001</td></tr><tr><td>7</td><td>Laura</td><td>Garcia</td><td>404 Willow St</td><td>San Francisco</td><td>CA</td><td>94101</td></tr><tr><td>8</td><td>James</td><td>Martinez</td><td>505 Redwood St</td><td>Houston</td><td>TX</td><td>77001</td></tr><tr><td>9</td><td>Olivia</td><td>Davis</td><td>606 Fir St</td><td>Boston</td><td>MA</td><td>02101</td></tr><tr><td>10</td><td>Daniel</td><td>Rodriguez</td><td>707 Spruce St</td><td>Philadelphia</td><td>PA</td><td>19101</td></tr><tr><td>11</td><td>Andy</td><td>Josheny</td><td>123 yulm St</td><td>Chicago</td><td>IL</td><td>627098</td></tr><tr><td>12</td><td>Eva</td><td>antony</td><td>153 balliol St</td><td>Chicago</td><td>PL</td><td>667098</td></tr></tbody></table></div>"
      ]
     },
     "metadata": {
      "application/vnd.databricks.v1+output": {
       "addedWidgets": {},
       "aggData": [],
       "aggError": "",
       "aggOverflow": false,
       "aggSchema": [],
       "aggSeriesLimitReached": false,
       "aggType": "",
       "arguments": {},
       "columnCustomDisplayInfos": {},
       "data": [
        [
         1,
         "John",
         "Doe",
         "123 Elm St",
         "Springfield",
         "IL",
         "62701"
        ],
        [
         2,
         "Jane",
         "Smith",
         "456 Oak St",
         "Chicago",
         "IL",
         "60614"
        ],
        [
         3,
         "Emily",
         "Johnson",
         "789 Pine St",
         "Dallas",
         "TX",
         "75201"
        ],
        [
         4,
         "Michael",
         "Williams",
         "101 Maple St",
         "Seattle",
         "WA",
         "98101"
        ],
        [
         5,
         "Sarah",
         "Brown",
         "202 Birch St",
         "New York",
         "NY",
         "10001"
        ],
        [
         6,
         "David",
         "Jones",
         "303 Cedar St",
         "Los Angeles",
         "CA",
         "90001"
        ],
        [
         7,
         "Laura",
         "Garcia",
         "404 Willow St",
         "San Francisco",
         "CA",
         "94101"
        ],
        [
         8,
         "James",
         "Martinez",
         "505 Redwood St",
         "Houston",
         "TX",
         "77001"
        ],
        [
         9,
         "Olivia",
         "Davis",
         "606 Fir St",
         "Boston",
         "MA",
         "02101"
        ],
        [
         10,
         "Daniel",
         "Rodriguez",
         "707 Spruce St",
         "Philadelphia",
         "PA",
         "19101"
        ],
        [
         11,
         "Andy",
         "Josheny",
         "123 yulm St",
         "Chicago",
         "IL",
         "627098"
        ],
        [
         12,
         "Eva",
         "antony",
         "153 balliol St",
         "Chicago",
         "PL",
         "667098"
        ]
       ],
       "datasetInfos": [],
       "dbfsResultPath": null,
       "isJsonSchema": true,
       "metadata": {},
       "overflow": false,
       "plotOptions": {
        "customPlotOptions": {},
        "displayType": "table",
        "pivotAggregation": null,
        "pivotColumns": null,
        "xColumns": null,
        "yColumns": null
       },
       "removedWidgets": [],
       "schema": [
        {
         "metadata": "{}",
         "name": "customer_id",
         "type": "\"long\""
        },
        {
         "metadata": "{}",
         "name": "first_name",
         "type": "\"string\""
        },
        {
         "metadata": "{}",
         "name": "last_name",
         "type": "\"string\""
        },
        {
         "metadata": "{}",
         "name": "address",
         "type": "\"string\""
        },
        {
         "metadata": "{}",
         "name": "city",
         "type": "\"string\""
        },
        {
         "metadata": "{}",
         "name": "state",
         "type": "\"string\""
        },
        {
         "metadata": "{}",
         "name": "zip",
         "type": "\"string\""
        }
       ],
       "type": "table"
      }
     },
     "output_type": "display_data"
    }
   ],
   "source": [
    "# Define the data and columns\n",
    "data = [\n",
    "    (1, 'John', 'Doe', '123 Elm St', 'Springfield', 'IL', '62701'),\n",
    "    (2, 'Jane', 'Smith', '456 Oak St', 'Chicago', 'IL', '60614'),\n",
    "    (3, 'Emily', 'Johnson', '789 Pine St', 'Dallas', 'TX', '75201'),\n",
    "    (4, 'Michael', 'Williams', '101 Maple St', 'Seattle', 'WA', '98101'),\n",
    "    (5, 'Sarah', 'Brown', '202 Birch St', 'New York', 'NY', '10001'),\n",
    "    (6, 'David', 'Jones', '303 Cedar St', 'Los Angeles', 'CA', '90001'),\n",
    "    (7, 'Laura', 'Garcia', '404 Willow St', 'San Francisco', 'CA', '94101'),\n",
    "    (8, 'James', 'Martinez', '505 Redwood St', 'Houston', 'TX', '77001'),\n",
    "    (9, 'Olivia', 'Davis', '606 Fir St', 'Boston', 'MA', '02101'),\n",
    "    (10, 'Daniel', 'Rodriguez', '707 Spruce St', 'Philadelphia', 'PA', '19101'),\n",
    "    (11, 'Andy', 'Josheny', '123 yulm St', 'Chicago', 'IL', '627098'),\n",
    "    (12, 'Eva', 'antony', '153 balliol St', 'Chicago', 'PL', '667098')\n",
    "]\n",
    "columns = [\"customer_id\", \"first_name\", \"last_name\", \"address\", \"city\", \"state\", \"zip\"]\n",
    "\n",
    "# Create a DataFrame\n",
    "df = spark.createDataFrame(data, columns)\n",
    "\n",
    "# Display the DataFrame\n",
    "display(df)"
   ]
  },
  {
   "cell_type": "code",
   "execution_count": 0,
   "metadata": {
    "application/vnd.databricks.v1+cell": {
     "cellMetadata": {
      "byteLimit": 2048000,
      "rowLimit": 10000
     },
     "inputWidgets": {},
     "nuid": "b9346e59-bb96-4ce8-9d10-98ffb1dbac3c",
     "showTitle": false,
     "tableResultSettingsMap": {},
     "title": ""
    }
   },
   "outputs": [
    {
     "output_type": "display_data",
     "data": {
      "text/html": [
       "<style scoped>\n",
       "  .table-result-container {\n",
       "    max-height: 300px;\n",
       "    overflow: auto;\n",
       "  }\n",
       "  table, th, td {\n",
       "    border: 1px solid black;\n",
       "    border-collapse: collapse;\n",
       "  }\n",
       "  th, td {\n",
       "    padding: 5px;\n",
       "  }\n",
       "  th {\n",
       "    text-align: left;\n",
       "  }\n",
       "</style><div class='table-result-container'><table class='table-result'><thead style='background-color: white'><tr><th>city</th><th>state</th><th>distinct_zip_count</th></tr></thead><tbody><tr><td>Los Angeles</td><td>CA</td><td>1</td></tr><tr><td>San Francisco</td><td>CA</td><td>1</td></tr><tr><td>Chicago</td><td>PL</td><td>1</td></tr><tr><td>Philadelphia</td><td>PA</td><td>1</td></tr><tr><td>Dallas</td><td>TX</td><td>1</td></tr><tr><td>Boston</td><td>MA</td><td>1</td></tr><tr><td>Springfield</td><td>IL</td><td>1</td></tr><tr><td>New York</td><td>NY</td><td>1</td></tr><tr><td>Chicago</td><td>IL</td><td>2</td></tr><tr><td>Houston</td><td>TX</td><td>1</td></tr><tr><td>Seattle</td><td>WA</td><td>1</td></tr></tbody></table></div>"
      ]
     },
     "metadata": {
      "application/vnd.databricks.v1+output": {
       "addedWidgets": {},
       "aggData": [],
       "aggError": "",
       "aggOverflow": false,
       "aggSchema": [],
       "aggSeriesLimitReached": false,
       "aggType": "",
       "arguments": {},
       "columnCustomDisplayInfos": {},
       "data": [
        [
         "Los Angeles",
         "CA",
         1
        ],
        [
         "San Francisco",
         "CA",
         1
        ],
        [
         "Chicago",
         "PL",
         1
        ],
        [
         "Philadelphia",
         "PA",
         1
        ],
        [
         "Dallas",
         "TX",
         1
        ],
        [
         "Boston",
         "MA",
         1
        ],
        [
         "Springfield",
         "IL",
         1
        ],
        [
         "New York",
         "NY",
         1
        ],
        [
         "Chicago",
         "IL",
         2
        ],
        [
         "Houston",
         "TX",
         1
        ],
        [
         "Seattle",
         "WA",
         1
        ]
       ],
       "datasetInfos": [],
       "dbfsResultPath": null,
       "isJsonSchema": true,
       "metadata": {},
       "overflow": false,
       "plotOptions": {
        "customPlotOptions": {},
        "displayType": "table",
        "pivotAggregation": null,
        "pivotColumns": null,
        "xColumns": null,
        "yColumns": null
       },
       "removedWidgets": [],
       "schema": [
        {
         "metadata": "{}",
         "name": "city",
         "type": "\"string\""
        },
        {
         "metadata": "{}",
         "name": "state",
         "type": "\"string\""
        },
        {
         "metadata": "{}",
         "name": "distinct_zip_count",
         "type": "\"long\""
        }
       ],
       "type": "table"
      }
     },
     "output_type": "display_data"
    },
    {
     "output_type": "stream",
     "name": "stdout",
     "output_type": "stream",
     "text": [
      "+-------------+-----+------------------+\n|city         |state|distinct_zip_count|\n+-------------+-----+------------------+\n|Los Angeles  |CA   |1                 |\n|San Francisco|CA   |1                 |\n|Chicago      |PL   |1                 |\n|Philadelphia |PA   |1                 |\n|Dallas       |TX   |1                 |\n|Boston       |MA   |1                 |\n|Springfield  |IL   |1                 |\n|New York     |NY   |1                 |\n|Chicago      |IL   |2                 |\n|Houston      |TX   |1                 |\n|Seattle      |WA   |1                 |\n+-------------+-----+------------------+\n\n"
     ]
    }
   ],
   "source": [
    "# Group customers by city and state, and count distinct zip codes\n",
    "city_zip_count = df.groupBy(\"city\", \"state\").agg(countDistinct(\"zip\").alias(\"distinct_zip_count\"))\n",
    "\n",
    "# Display the result\n",
    "display(city_zip_count)\n",
    "\n",
    "# Show the result\n",
    "city_zip_count.show(truncate=False)"
   ]
  },
  {
   "cell_type": "code",
   "execution_count": 0,
   "metadata": {
    "application/vnd.databricks.v1+cell": {
     "cellMetadata": {
      "byteLimit": 2048000,
      "rowLimit": 10000
     },
     "inputWidgets": {},
     "nuid": "20fc8916-0f3f-4480-b4d8-1867277b6daf",
     "showTitle": false,
     "tableResultSettingsMap": {},
     "title": ""
    }
   },
   "outputs": [],
   "source": [
    "# Define the path for gold container\n",
    "\n",
    "gold_delta = \"abfss://gold@mystoragecd.dfs.core.windows.net/delta/gold_delta\"\n",
    "\n",
    "# Save the DataFrame in Delta format, overwriting if it exists\n",
    "\n",
    "city_zip_count.write.format(\"delta\").mode(\"overwrite\").save(gold_delta)"
   ]
  }
 ],
 "metadata": {
  "application/vnd.databricks.v1+notebook": {
   "dashboards": [],
   "environmentMetadata": {
    "base_environment": "",
    "client": "1"
   },
   "language": "python",
   "notebookMetadata": {
    "pythonIndentUnit": 4
   },
   "notebookName": "ETL",
   "widgets": {}
  },
  "language_info": {
   "name": "python"
  }
 },
 "nbformat": 4,
 "nbformat_minor": 0
}
