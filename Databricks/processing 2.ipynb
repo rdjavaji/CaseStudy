{
 "cells": [
  {
   "cell_type": "code",
   "execution_count": 0,
   "metadata": {
    "application/vnd.databricks.v1+cell": {
     "cellMetadata": {
      "byteLimit": 2048000,
      "rowLimit": 10000
     },
     "inputWidgets": {},
     "nuid": "cf9e4f5b-70dc-46d7-8d70-6233d90ee067",
     "showTitle": false,
     "tableResultSettingsMap": {},
     "title": ""
    }
   },
   "outputs": [],
   "source": [
    "spark.conf.set(\n",
    "\"fs.azure.account.key.myrgstore.dfs.core.windows.net\",\n",
    "\"Cdhaz7zz+7n======================================================================\")"
   ]
  },
  {
   "cell_type": "code",
   "execution_count": 0,
   "metadata": {
    "application/vnd.databricks.v1+cell": {
     "cellMetadata": {
      "byteLimit": 2048000,
      "rowLimit": 10000
     },
     "inputWidgets": {},
     "nuid": "41858730-b401-40f4-a738-2c021f46a369",
     "showTitle": false,
     "tableResultSettingsMap": {},
     "title": ""
    }
   },
   "outputs": [
    {
     "output_type": "display_data",
     "data": {
      "text/html": [
       "<style scoped>\n",
       "  .table-result-container {\n",
       "    max-height: 300px;\n",
       "    overflow: auto;\n",
       "  }\n",
       "  table, th, td {\n",
       "    border: 1px solid black;\n",
       "    border-collapse: collapse;\n",
       "  }\n",
       "  th, td {\n",
       "    padding: 5px;\n",
       "  }\n",
       "  th {\n",
       "    text-align: left;\n",
       "  }\n",
       "</style><div class='table-result-container'><table class='table-result'><thead style='background-color: white'><tr><th>path</th><th>name</th><th>size</th><th>modificationTime</th></tr></thead><tbody><tr><td>abfss://raw@myrgstore.dfs.core.windows.net/accounts.csv</td><td>accounts.csv</td><td>237</td><td>1733357495000</td></tr><tr><td>abfss://raw@myrgstore.dfs.core.windows.net/customers.csv</td><td>customers.csv</td><td>629</td><td>1733357495000</td></tr><tr><td>abfss://raw@myrgstore.dfs.core.windows.net/loan_payments.csv</td><td>loan_payments.csv</td><td>277</td><td>1733357495000</td></tr><tr><td>abfss://raw@myrgstore.dfs.core.windows.net/loans.csv</td><td>loans.csv</td><td>271</td><td>1733357495000</td></tr><tr><td>abfss://raw@myrgstore.dfs.core.windows.net/transactions.csv</td><td>transactions.csv</td><td>408</td><td>1733357495000</td></tr></tbody></table></div>"
      ]
     },
     "metadata": {
      "application/vnd.databricks.v1+output": {
       "addedWidgets": {},
       "aggData": [],
       "aggError": "",
       "aggOverflow": false,
       "aggSchema": [],
       "aggSeriesLimitReached": false,
       "aggType": "",
       "arguments": {},
       "columnCustomDisplayInfos": {},
       "data": [
        [
         "abfss://raw@myrgstore.dfs.core.windows.net/accounts.csv",
         "accounts.csv",
         237,
         1733357495000
        ],
        [
         "abfss://raw@myrgstore.dfs.core.windows.net/customers.csv",
         "customers.csv",
         629,
         1733357495000
        ],
        [
         "abfss://raw@myrgstore.dfs.core.windows.net/loan_payments.csv",
         "loan_payments.csv",
         277,
         1733357495000
        ],
        [
         "abfss://raw@myrgstore.dfs.core.windows.net/loans.csv",
         "loans.csv",
         271,
         1733357495000
        ],
        [
         "abfss://raw@myrgstore.dfs.core.windows.net/transactions.csv",
         "transactions.csv",
         408,
         1733357495000
        ]
       ],
       "datasetInfos": [],
       "dbfsResultPath": null,
       "isJsonSchema": true,
       "metadata": {},
       "overflow": false,
       "plotOptions": {
        "customPlotOptions": {},
        "displayType": "table",
        "pivotAggregation": null,
        "pivotColumns": null,
        "xColumns": null,
        "yColumns": null
       },
       "removedWidgets": [],
       "schema": [
        {
         "metadata": "{}",
         "name": "path",
         "type": "\"string\""
        },
        {
         "metadata": "{}",
         "name": "name",
         "type": "\"string\""
        },
        {
         "metadata": "{}",
         "name": "size",
         "type": "\"long\""
        },
        {
         "metadata": "{}",
         "name": "modificationTime",
         "type": "\"long\""
        }
       ],
       "type": "table"
      }
     },
     "output_type": "display_data"
    }
   ],
   "source": [
    "display(dbutils.fs.ls(\"abfss://raw@myrgstore.dfs.core.windows.net\"))"
   ]
  },
  {
   "cell_type": "code",
   "execution_count": 0,
   "metadata": {
    "application/vnd.databricks.v1+cell": {
     "cellMetadata": {
      "byteLimit": 2048000,
      "rowLimit": 10000
     },
     "inputWidgets": {},
     "nuid": "e9b2bc6a-264c-4daa-870d-a8dce29b8515",
     "showTitle": false,
     "tableResultSettingsMap": {},
     "title": ""
    }
   },
   "outputs": [
    {
     "output_type": "stream",
     "name": "stdout",
     "output_type": "stream",
     "text": [
      "+----------+-----------+------------+-------+\n|account_id|customer_id|account_type|balance|\n+----------+-----------+------------+-------+\n|         1|          1|    Checking|   1000|\n|         2|          1|     Savings|   5000|\n|         3|          2|    Checking|   1500|\n|         4|          2|  Investment|   7500|\n|         5|          3|     Savings|   2000|\n+----------+-----------+------------+-------+\nonly showing top 5 rows\n\n+-----------+----------+---------+------------+-----------+-----+-----+\n|customer_id|first_name|last_name|     address|       city|state|  zip|\n+-----------+----------+---------+------------+-----------+-----+-----+\n|          1|      John|      Doe|  123 Elm St|Springfield|   IL|62701|\n|          2|      Jane|    Smith|  456 Oak St|    Chicago|   IL|60614|\n|          3|     Emily|  Johnson| 789 Pine St|     Dallas|   TX|75201|\n|          4|   Michael| Williams|101 Maple St|    Seattle|   WA|98101|\n|          5|     Sarah|    Brown|202 Birch St|   New York|   NY|10001|\n+-----------+----------+---------+------------+-----------+-----+-----+\nonly showing top 5 rows\n\n+----------+-------+------------+--------------+\n|payment_id|loan_id|payment_date|payment_amount|\n+----------+-------+------------+--------------+\n|         1|      1|  2024-01-15|        250.00|\n|         2|      1|  2024-02-15|        200.00|\n|         3|      2|  2024-01-20|        150.00|\n|         4|      2|  2024-02-20|        400.00|\n|         5|      3|  2024-01-25|        400.00|\n+----------+-------+------------+--------------+\nonly showing top 5 rows\n\n+-------+-----------+-----------+-------------+---------+\n|loan_id|customer_id|loan_amount|interest_rate|loan_term|\n+-------+-----------+-----------+-------------+---------+\n|      1|          1|    5000.00|         3.50|       12|\n|      2|          2|    7500.00|         4.00|       24|\n|      3|          3|    6000.00|         3.75|       18|\n|      4|          4|   10000.00|         4.25|       36|\n|      5|          5|   12000.00|         4.50|       48|\n+-------+-----------+-----------+-------------+---------+\nonly showing top 5 rows\n\n+--------------+----------+----------------+------------------+----------------+\n|transaction_id|account_id|transaction_date|transaction_amount|transaction_type|\n+--------------+----------+----------------+------------------+----------------+\n|             1|         1|      2024-09-01|            200.00|         Deposit|\n|             2|         1|      2024-09-03|           -100.00|      Withdrawal|\n|             3|         2|      2024-09-02|            300.00|         Deposit|\n|             4|         2|      2024-09-04|            -50.00|      Withdrawal|\n|             5|         3|      2024-09-05|            150.00|         Deposit|\n+--------------+----------+----------------+------------------+----------------+\nonly showing top 5 rows\n\n"
     ]
    }
   ],
   "source": [
    "from pyspark.sql import SparkSession\n",
    "spark = SparkSession.builder.appName(\"DataCleaning\").getOrCreate()\n",
    "\n",
    "# Read data from raw container\n",
    "accounts_df = spark.read.csv(\"abfss://raw@myrgstore.dfs.core.windows.net/accounts.csv\", header=True)\n",
    "customers_df = spark.read.csv(\"abfss://raw@myrgstore.dfs.core.windows.net/customers.csv\", header=True)\n",
    "loan_payments_df = spark.read.csv(\"abfss://raw@myrgstore.dfs.core.windows.net/loan_payments.csv\", header=True)\n",
    "loans_df = spark.read.csv(\"abfss://raw@myrgstore.dfs.core.windows.net/loans.csv\", header=True)\n",
    "transactions_df = spark.read.csv(\"abfss://raw@myrgstore.dfs.core.windows.net/transactions.csv\", header=True)\n",
    "\n",
    "accounts_df.show(5)\n",
    "customers_df.show(5)\n",
    "loan_payments_df.show(5)\n",
    "loans_df.show(5)\n",
    "transactions_df.show(5)"
   ]
  },
  {
   "cell_type": "code",
   "execution_count": 0,
   "metadata": {
    "application/vnd.databricks.v1+cell": {
     "cellMetadata": {
      "byteLimit": 2048000,
      "rowLimit": 10000
     },
     "inputWidgets": {},
     "nuid": "f4f029af-aa9c-4fe4-b10a-a88ee39de6a6",
     "showTitle": false,
     "tableResultSettingsMap": {},
     "title": ""
    }
   },
   "outputs": [],
   "source": [
    "# Remove null values\n",
    "accounts_df = accounts_df.dropna()\n",
    "customers_df = customers_df.dropna()\n",
    "loan_payments_df = loan_payments_df.dropna()\n",
    "loans_df = loans_df.dropna()\n",
    "transactions_df = transactions_df.dropna()"
   ]
  },
  {
   "cell_type": "code",
   "execution_count": 0,
   "metadata": {
    "application/vnd.databricks.v1+cell": {
     "cellMetadata": {
      "byteLimit": 2048000,
      "rowLimit": 10000
     },
     "inputWidgets": {},
     "nuid": "5cbd4b40-49b8-47ea-b767-f41c32a5790c",
     "showTitle": false,
     "tableResultSettingsMap": {},
     "title": ""
    }
   },
   "outputs": [],
   "source": [
    "# Remove Duplicates\n",
    "accounts_df = accounts_df.dropDuplicates()\n",
    "customers_df = customers_df.dropDuplicates()\n",
    "loan_payments_df = loan_payments_df.dropDuplicates()\n",
    "loans_df = loans_df.dropDuplicates()\n",
    "transactions_df = transactions_df.dropDuplicates()"
   ]
  },
  {
   "cell_type": "code",
   "execution_count": 0,
   "metadata": {
    "application/vnd.databricks.v1+cell": {
     "cellMetadata": {
      "byteLimit": 2048000,
      "rowLimit": 10000
     },
     "inputWidgets": {},
     "nuid": "5d5e55b3-b1f4-406b-9ea2-d2124794ac31",
     "showTitle": false,
     "tableResultSettingsMap": {},
     "title": ""
    }
   },
   "outputs": [],
   "source": [
    "# Renaming the column name from zip to postal_code from customer file.\n",
    "customers_df = customers_df.withColumnRenamed(\"zip\", \"postal_code\")"
   ]
  },
  {
   "cell_type": "code",
   "execution_count": 0,
   "metadata": {
    "application/vnd.databricks.v1+cell": {
     "cellMetadata": {
      "byteLimit": 2048000,
      "rowLimit": 10000
     },
     "inputWidgets": {},
     "nuid": "c221d524-b506-4e20-b98c-10a277deb072",
     "showTitle": false,
     "tableResultSettingsMap": {},
     "title": ""
    }
   },
   "outputs": [
    {
     "output_type": "stream",
     "name": "stdout",
     "output_type": "stream",
     "text": [
      "root\n |-- customer_id: integer (nullable = true)\n |-- first_name: string (nullable = true)\n |-- last_name: string (nullable = true)\n |-- address: string (nullable = true)\n |-- city: string (nullable = true)\n |-- state: string (nullable = true)\n |-- postal_code: integer (nullable = true)\n\n+-----------+----------+---------+------------+-----------+-----+-----------+\n|customer_id|first_name|last_name|     address|       city|state|postal_code|\n+-----------+----------+---------+------------+-----------+-----+-----------+\n|          9|    Olivia|    Davis|  606 Fir St|     Boston|   MA|       2101|\n|          6|     David|    Jones|303 Cedar St|Los Angeles|   CA|      90001|\n|          5|     Sarah|    Brown|202 Birch St|   New York|   NY|      10001|\n|          2|      Jane|    Smith|  456 Oak St|    Chicago|   IL|      60614|\n|          3|     Emily|  Johnson| 789 Pine St|     Dallas|   TX|      75201|\n+-----------+----------+---------+------------+-----------+-----+-----------+\nonly showing top 5 rows\n\n"
     ]
    }
   ],
   "source": [
    "# Change data types for customer table Converting 'customer_id' and 'postal_code' to Integer\n",
    "\n",
    "from pyspark.sql import functions as F\n",
    "\n",
    "# Change data types for customer table Converting 'customer_id' and 'postal_code' to Integer\n",
    "\n",
    "customers_df = (customers_df\n",
    ".withColumn(\"customer_id\", F.col(\"customer_id\").cast(\"int\"))\n",
    ".withColumn(\"postal_code\", F.col(\"postal_code\").cast(\"int\"))\n",
    ")\n",
    "\n",
    "# Display the updated schema to verify changes\n",
    "\n",
    "customers_df.printSchema()\n",
    "\n",
    "# Display the updated schema to verify changes\n",
    "\n",
    "customers_df.show(5)"
   ]
  },
  {
   "cell_type": "code",
   "execution_count": 0,
   "metadata": {
    "application/vnd.databricks.v1+cell": {
     "cellMetadata": {
      "byteLimit": 2048000,
      "rowLimit": 10000
     },
     "inputWidgets": {},
     "nuid": "9c407270-5ebf-4325-9b1b-fcefff335ee5",
     "showTitle": false,
     "tableResultSettingsMap": {},
     "title": ""
    }
   },
   "outputs": [
    {
     "output_type": "stream",
     "name": "stdout",
     "output_type": "stream",
     "text": [
      "root\n |-- account_id: integer (nullable = true)\n |-- customer_id: integer (nullable = true)\n |-- account_type: string (nullable = true)\n |-- balance: double (nullable = true)\n\n+----------+-----------+------------+-------+\n|account_id|customer_id|account_type|balance|\n+----------+-----------+------------+-------+\n|         9|          7|  Investment| 8000.0|\n|         8|          6|     Savings| 6000.0|\n|         5|          3|     Savings| 2000.0|\n|         4|          2|  Investment| 7500.0|\n|         1|          1|    Checking| 1000.0|\n+----------+-----------+------------+-------+\nonly showing top 5 rows\n\n"
     ]
    }
   ],
   "source": [
    "# Change data types for accounts table Converting 'customer_id', 'account_id' to integer and 'balance' to double\n",
    "\n",
    "accounts_df = (accounts_df\n",
    ".withColumn(\"account_id\", F.col(\"account_id\").cast(\"int\"))\n",
    ".withColumn(\"customer_id\", F.col(\"customer_id\").cast(\"int\"))\n",
    ".withColumn(\"balance\", F.col(\"balance\").cast(\"double\"))\n",
    ")\n",
    "\n",
    "# Display the updated schema to verify changes\n",
    "\n",
    "accounts_df.printSchema()\n",
    "\n",
    "# Display the updated schema to verify changes\n",
    "\n",
    "accounts_df.show(5)"
   ]
  },
  {
   "cell_type": "code",
   "execution_count": 0,
   "metadata": {
    "application/vnd.databricks.v1+cell": {
     "cellMetadata": {
      "byteLimit": 2048000,
      "rowLimit": 10000
     },
     "inputWidgets": {},
     "nuid": "a8f156a6-2d3c-468d-a2ae-af878606fd08",
     "showTitle": false,
     "tableResultSettingsMap": {},
     "title": ""
    }
   },
   "outputs": [
    {
     "output_type": "stream",
     "name": "stdout",
     "output_type": "stream",
     "text": [
      "root\n |-- payment_id: integer (nullable = true)\n |-- loan_id: integer (nullable = true)\n |-- payment_date: date (nullable = true)\n |-- payment_amount: double (nullable = true)\n\n+----------+-------+------------+--------------+\n|payment_id|loan_id|payment_date|payment_amount|\n+----------+-------+------------+--------------+\n|         9|      5|  2024-05-10|         400.0|\n|         3|      2|  2024-01-20|         150.0|\n|         8|      4|  2024-04-01|         200.0|\n|         1|      1|  2024-01-15|         250.0|\n|         5|      3|  2024-01-25|         400.0|\n+----------+-------+------------+--------------+\nonly showing top 5 rows\n\n"
     ]
    }
   ],
   "source": [
    "# Change data types for loan_payments table converting ‘payment_id’, ‘loan_id’ to Int and ‘payment_date’ to date and ‘payment_amount’ to double.\n",
    "\n",
    "loan_payments_df = (loan_payments_df\n",
    ".withColumn(\"payment_id\", F.col(\"payment_id\").cast(\"int\"))\n",
    ".withColumn(\"loan_id\", F.col(\"loan_id\").cast(\"int\"))\n",
    ".withColumn(\"payment_date\", F.to_date(F.col(\"payment_date\"), \"yyyy-MM-dd\"))\n",
    "\n",
    "# Adjust date format as needed\n",
    "\n",
    ".withColumn(\"payment_amount\", F.col(\"payment_amount\").cast(\"double\")) \n",
    ")\n",
    "\n",
    "# Display the updated schema to verify changes\n",
    "\n",
    "loan_payments_df.printSchema()\n",
    "\n",
    "# Display the updated schema to verify changes\n",
    "\n",
    "loan_payments_df.show(5)"
   ]
  },
  {
   "cell_type": "code",
   "execution_count": 0,
   "metadata": {
    "application/vnd.databricks.v1+cell": {
     "cellMetadata": {
      "byteLimit": 2048000,
      "rowLimit": 10000
     },
     "inputWidgets": {},
     "nuid": "43e5384c-850d-4db2-89a2-90b518394a5b",
     "showTitle": false,
     "tableResultSettingsMap": {},
     "title": ""
    }
   },
   "outputs": [
    {
     "output_type": "stream",
     "name": "stdout",
     "output_type": "stream",
     "text": [
      "root\n |-- loan_id: integer (nullable = true)\n |-- customer_id: integer (nullable = true)\n |-- loan_amount: double (nullable = true)\n |-- interest_rate: double (nullable = true)\n |-- loan_term: integer (nullable = true)\n\n+-------+-----------+-----------+-------------+---------+\n|loan_id|customer_id|loan_amount|interest_rate|loan_term|\n+-------+-----------+-----------+-------------+---------+\n|      6|          6|     8000.0|          3.9|       24|\n|      7|          7|     9500.0|          4.1|       30|\n|      5|          5|    12000.0|          4.5|       48|\n|      3|          3|     6000.0|         3.75|       18|\n|      1|          1|     5000.0|          3.5|       12|\n+-------+-----------+-----------+-------------+---------+\nonly showing top 5 rows\n\n"
     ]
    }
   ],
   "source": [
    "# Change data types for loans table converting ‘loan_id’, ‘customer_id’ and ‘loan_term’ to Int and ‘loan_amount’, ‘interest_rate’ to double\n",
    "\n",
    "loans_df = (loans_df\n",
    ".withColumn(\"loan_id\", F.col(\"loan_id\").cast(\"int\"))\n",
    ".withColumn(\"customer_id\", F.col(\"customer_id\").cast(\"int\"))\n",
    ".withColumn(\"loan_amount\", F.col(\"loan_amount\").cast(\"double\"))\n",
    ".withColumn(\"interest_rate\", F.col(\"interest_rate\").cast(\"double\"))\n",
    ".withColumn(\"loan_term\", F.col(\"loan_term\").cast(\"int\"))\n",
    ")\n",
    "\n",
    "# Display the updated schema to verify changes\n",
    "\n",
    "loans_df.printSchema()\n",
    "\n",
    "# Display the updated schema to verify changes\n",
    "\n",
    "loans_df.show(5)"
   ]
  },
  {
   "cell_type": "code",
   "execution_count": 0,
   "metadata": {
    "application/vnd.databricks.v1+cell": {
     "cellMetadata": {
      "byteLimit": 2048000,
      "rowLimit": 10000
     },
     "inputWidgets": {},
     "nuid": "5d55fcee-f068-488f-8c5e-17ee7f0f34eb",
     "showTitle": false,
     "tableResultSettingsMap": {},
     "title": ""
    }
   },
   "outputs": [
    {
     "output_type": "stream",
     "name": "stdout",
     "output_type": "stream",
     "text": [
      "root\n |-- transaction_id: integer (nullable = true)\n |-- account_id: integer (nullable = true)\n |-- transaction_date: date (nullable = true)\n |-- transaction_amount: double (nullable = true)\n |-- transaction_type: string (nullable = true)\n\n+--------------+----------+----------------+------------------+----------------+\n|transaction_id|account_id|transaction_date|transaction_amount|transaction_type|\n+--------------+----------+----------------+------------------+----------------+\n|             4|         2|      2024-09-04|             -50.0|      Withdrawal|\n|             8|         6|      2024-09-08|            -300.0|      Withdrawal|\n|            10|         8|      2024-09-10|            -150.0|      Withdrawal|\n|             7|         5|      2024-09-07|             250.0|         Deposit|\n|             5|         3|      2024-09-05|             150.0|         Deposit|\n+--------------+----------+----------------+------------------+----------------+\nonly showing top 5 rows\n\n"
     ]
    }
   ],
   "source": [
    "# Change data types for transactions table converting ‘transaction_id’, ‘account_id’ and ‘transaction_date’ to Date and ‘trannsaction_amount’’ to double\n",
    "\n",
    "transactions_df = (transactions_df\n",
    ".withColumn(\"transaction_id\", F.col(\"transaction_id\").cast(\"int\"))\n",
    ".withColumn(\"account_id\", F.col(\"account_id\").cast(\"int\"))\n",
    ".withColumn(\"transaction_date\", F.to_date(F.col(\"transaction_date\"),\n",
    "\"yyyy-MM-dd\"))\n",
    ".withColumn(\"transaction_amount\",\n",
    "F.col(\"transaction_amount\").cast(\"double\"))\n",
    ")\n",
    "\n",
    "# Display the updated schema to verify changes\n",
    "\n",
    "transactions_df.printSchema()\n",
    "\n",
    "# Display the updated schema to verify changes\n",
    "\n",
    "transactions_df.show(5)"
   ]
  },
  {
   "cell_type": "code",
   "execution_count": 0,
   "metadata": {
    "application/vnd.databricks.v1+cell": {
     "cellMetadata": {
      "byteLimit": 2048000,
      "rowLimit": 10000
     },
     "inputWidgets": {},
     "nuid": "b3b079bd-d9a1-4dad-9bde-aa83647ffe38",
     "showTitle": false,
     "tableResultSettingsMap": {},
     "title": ""
    }
   },
   "outputs": [],
   "source": [
    "# Define the paths to the Silver container\n",
    "\n",
    "silver_accounts = \"abfss://silver@myrgstore.dfs.core.windows.net/delta/accounts_delta\"\n",
    "\n",
    "silver_customers = \"abfss://silver@myrgstore.dfs.core.windows.net/delta/customers_delta\"\n",
    "\n",
    "silver_loan_payments = \"abfss://silver@myrgstore.dfs.core.windows.net/delta/loan_payments_delta\"\n",
    "\n",
    "silver_loans = \"abfss://silver@myrgstore.dfs.core.windows.net/delta/loans_delta\"\n",
    "\n",
    "silver_transactions = \"abfss://silver@myrgstore.dfs.core.windows.net/delta/transactions_delta\""
   ]
  },
  {
   "cell_type": "code",
   "execution_count": 0,
   "metadata": {
    "application/vnd.databricks.v1+cell": {
     "cellMetadata": {
      "byteLimit": 2048000,
      "rowLimit": 10000
     },
     "inputWidgets": {},
     "nuid": "a4cee794-760e-41e0-9647-b3e809fdf63e",
     "showTitle": false,
     "tableResultSettingsMap": {},
     "title": ""
    }
   },
   "outputs": [],
   "source": [
    "# Write the cleaned data back to the Silver container\n",
    "\n",
    "accounts_df.write.format(\"delta\").mode(\"overwrite\").save(silver_accounts)\n",
    "customers_df.write.format(\"delta\").mode(\"overwrite\").save(silver_customers)\n",
    "loan_payments_df.write.format(\"delta\").mode(\"overwrite\").save(silver_loan_payments)\n",
    "loans_df.write.format(\"delta\").mode(\"overwrite\").save(silver_loans)\n",
    "transactions_df.write.format(\"delta\").mode(\"overwrite\").save(silver_transactions)"
   ]
  },
  {
   "cell_type": "code",
   "execution_count": 0,
   "metadata": {
    "application/vnd.databricks.v1+cell": {
     "cellMetadata": {
      "byteLimit": 2048000,
      "rowLimit": 10000
     },
     "inputWidgets": {},
     "nuid": "073c87cd-b8db-4370-8891-735b0102ada9",
     "showTitle": false,
     "tableResultSettingsMap": {},
     "title": ""
    }
   },
   "outputs": [],
   "source": [
    "# Define the paths to the Silver container\n",
    "\n",
    "silver_accounts = \"abfss://silver@myrgstore.dfs.core.windows.net/delta/accounts_delta\"\n",
    "\n",
    "silver_customers = \"abfss://silver@myrgstore.dfs.core.windows.net/delta/customers_delta\"\n",
    "\n",
    "silver_loan_payments = \"abfss://silver@myrgstore.dfs.core.windows.net/delta/loan_payments_delta\"\n",
    "\n",
    "silver_loans = \"abfss://silver@myrgstore.dfs.core.windows.net/delta/loans_delta\"\n",
    "\n",
    "silver_transactions = \"abfss://silver@myrgstore.dfs.core.windows.net/delta/transactions_delta\"\n",
    "\n",
    "silver_delta = \"abfss://silver@myrgstore.dfs.core.windows.net/delta/silver_delta\""
   ]
  }
 ],
 "metadata": {
  "application/vnd.databricks.v1+notebook": {
   "dashboards": [],
   "environmentMetadata": {
    "base_environment": "",
    "client": "1"
   },
   "language": "python",
   "notebookMetadata": {
    "pythonIndentUnit": 4
   },
   "notebookName": "processing 2",
   "widgets": {}
  },
  "language_info": {
   "name": "python"
  }
 },
 "nbformat": 4,
 "nbformat_minor": 0
}
